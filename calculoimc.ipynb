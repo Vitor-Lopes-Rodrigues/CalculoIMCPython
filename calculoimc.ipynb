{
  "nbformat": 4,
  "nbformat_minor": 0,
  "metadata": {
    "colab": {
      "provenance": [],
      "authorship_tag": "ABX9TyPQ4BuLPkuL/atuTNqy7TOT",
      "include_colab_link": true
    },
    "kernelspec": {
      "name": "python3",
      "display_name": "Python 3"
    },
    "language_info": {
      "name": "python"
    }
  },
  "cells": [
    {
      "cell_type": "markdown",
      "metadata": {
        "id": "view-in-github",
        "colab_type": "text"
      },
      "source": [
        "<a href=\"https://colab.research.google.com/github/Vitor-Lopes-Rodrigues/CalculoIMCPython/blob/main/calculoimc.ipynb\" target=\"_parent\"><img src=\"https://colab.research.google.com/assets/colab-badge.svg\" alt=\"Open In Colab\"/></a>"
      ]
    },
    {
      "cell_type": "code",
      "execution_count": 4,
      "metadata": {
        "colab": {
          "base_uri": "https://localhost:8080/"
        },
        "id": "uC_jsiG5OTyw",
        "outputId": "3363e574-77f6-408e-ae14-b7c6ce93d85d"
      },
      "outputs": [
        {
          "output_type": "stream",
          "name": "stdout",
          "text": [
            "Digite seu peso em kg: 150\n",
            "Digite sua altura em metros: 1.64\n",
            "Seu IMC é: 55.77\n",
            "Classificação: Obesidade Grau 3\n"
          ]
        }
      ],
      "source": [
        "def calcular_imc(peso, altura):\n",
        "    imc = peso / (altura ** 2)\n",
        "    return imc\n",
        "\n",
        "def classificar_imc(imc):\n",
        "    if imc < 18.5:\n",
        "        return \"Abaixo do peso\"\n",
        "    elif 18.5 <= imc < 24.9:\n",
        "        return \"Peso normal\"\n",
        "    elif 25 <= imc < 29.9:\n",
        "        return \"Sobrepeso\"\n",
        "    elif 30 <= imc < 34.9:\n",
        "        return \"Obesidade Grau 1\"\n",
        "    elif 35 <= imc < 39.9:\n",
        "        return \"Obesidade Grau 2\"\n",
        "    else:\n",
        "        return \"Obesidade Grau 3\"\n",
        "\n",
        "peso = float(input(\"Digite seu peso em kg: \"))\n",
        "altura = float(input(\"Digite sua altura em metros: \"))\n",
        "\n",
        "imc = calcular_imc(peso, altura)\n",
        "classificacao = classificar_imc(imc)\n",
        "\n",
        "print(f\"Seu IMC é: {imc:.2f}\")\n",
        "print(f\"Classificação: {classificacao}\")"
      ]
    },
    {
      "cell_type": "code",
      "source": [],
      "metadata": {
        "id": "y2SqB-b5QneD"
      },
      "execution_count": null,
      "outputs": []
    }
  ]
}